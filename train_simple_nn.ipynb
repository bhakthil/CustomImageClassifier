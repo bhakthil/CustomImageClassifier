{
 "cells": [
  {
   "cell_type": "code",
   "execution_count": 41,
   "metadata": {},
   "outputs": [],
   "source": [
    "%matplotlib inline\n",
    "\n",
    "#matplotlib.use(\"Agg\")\n",
    "\n",
    "# USAGE\n",
    "# python train_simple_nn.py --dataset animals --model output/simple_nn.model --label-bin output/simple_nn_lb.pickle --plot output/simple_nn_plot.png\n",
    "\n",
    "# set the matplotlib backend so figures can be saved in the background\n"
   ]
  },
  {
   "cell_type": "code",
   "execution_count": 42,
   "metadata": {},
   "outputs": [],
   "source": [
    "# import the necessary packages\n",
    "from sklearn.preprocessing import LabelBinarizer\n",
    "from sklearn.model_selection import train_test_split\n",
    "from sklearn.metrics import classification_report\n",
    "from keras.models import Sequential\n",
    "from keras.layers.core import Dense\n",
    "from keras.optimizers import SGD\n",
    "from imutils import paths\n",
    "import matplotlib\n",
    "import matplotlib.pyplot as plt\n",
    "import numpy as np\n",
    "import argparse\n",
    "import random\n",
    "import pickle\n",
    "import cv2\n",
    "import os\n"
   ]
  },
  {
   "cell_type": "code",
   "execution_count": 43,
   "metadata": {},
   "outputs": [],
   "source": [
    "# construct the argument parser and parse the arguments\n",
    "# ap = argparse.ArgumentParser()\n",
    "# ap.add_argument(\"-d\", \"--dataset\", required=True, help=\"path to input dataset of images\", )\n",
    "# ap.add_argument(\"-m\", \"--model\", required=True, help=\"path to output trained model\")\n",
    "# ap.add_argument(\"-l\", \"--label-bin\", required=True, help=\"path to output label binarizer\")\n",
    "# ap.add_argument(\"-p\", \"--plot\", required=True, help=\"path to output accuracy/loss plot\")\n",
    "# args = vars(ap.parse_args())\n"
   ]
  },
  {
   "cell_type": "code",
   "execution_count": 44,
   "metadata": {},
   "outputs": [],
   "source": [
    "# construct the argument parser and parse the arguments\n",
    "args = {\n",
    "  \"dataset\": \"animals\", # path to input dataset of images\n",
    "  \"model\": \"output/simple_nn.model\",    # path to output trained model\n",
    "  \"label-bin\": \"output/simple_nn_lb.pickle\",# path to output label binarizer\n",
    "  \"plot\":\"output/simple_nn_plot.png\"       # path to output accuracy/loss plot\n",
    "}\n"
   ]
  },
  {
   "cell_type": "code",
   "execution_count": 45,
   "metadata": {},
   "outputs": [
    {
     "name": "stdout",
     "output_type": "stream",
     "text": [
      "[INFO] loading images...\n"
     ]
    }
   ],
   "source": [
    "# initialize the data and labels\n",
    "print(\"[INFO] loading images...\")\n",
    "data = []\n",
    "labels = []\n"
   ]
  },
  {
   "cell_type": "code",
   "execution_count": 46,
   "metadata": {},
   "outputs": [],
   "source": [
    "# grab the image paths and randomly shuffle them\n",
    "imagePaths = sorted(list(paths.list_images(args[\"dataset\"])))\n",
    "random.seed(42)\n",
    "random.shuffle(imagePaths)\n"
   ]
  },
  {
   "cell_type": "code",
   "execution_count": 47,
   "metadata": {},
   "outputs": [],
   "source": [
    "# loop over the input images\n",
    "for imagePath in imagePaths:\n",
    "    # load the image, resize the image to be 32x32 pixels (ignoring aspect ratio), flatten the image into 32x32x3=3072 pixel image\n",
    "    # into a list, and store the image in the data list\n",
    "    #print(imagePath)\n",
    "    image = cv2.imread(imagePath)\n",
    "    image = cv2.resize(image, (32, 32)).flatten()\n",
    "    data.append(image)\n",
    "\n",
    "    # extract the class label from the image path and update the\n",
    "    # labels list\n",
    "    label = imagePath.split(os.path.sep)[-2]\n",
    "    labels.append(label)"
   ]
  },
  {
   "cell_type": "code",
   "execution_count": 48,
   "metadata": {},
   "outputs": [],
   "source": [
    "# scale the raw pixel intensities to the range [0, 1]\n",
    "data = np.array(data, dtype=\"float\") / 255.0\n",
    "labels = np.array(labels)"
   ]
  },
  {
   "cell_type": "markdown",
   "metadata": {},
   "source": [
    "partition the data into training and testing splits using 75% of the data for training and the remaining 25% for testing"
   ]
  },
  {
   "cell_type": "code",
   "execution_count": 49,
   "metadata": {},
   "outputs": [],
   "source": [
    "(trainX, testX, trainY, testY) = train_test_split(data,\tlabels, test_size=0.25, random_state=42)\n"
   ]
  },
  {
   "cell_type": "markdown",
   "metadata": {},
   "source": [
    "convert the labels from integers to vectors (for 2-class, binary classification you should use Keras' to_categorical function\n",
    "instead as the scikit-learn's LabelBinarizer will not return a vector)\n"
   ]
  },
  {
   "cell_type": "code",
   "execution_count": 50,
   "metadata": {},
   "outputs": [],
   "source": [
    "lb = LabelBinarizer()\n",
    "trainY = lb.fit_transform(trainY)\n",
    "testY = lb.transform(testY)\n"
   ]
  },
  {
   "cell_type": "code",
   "execution_count": 51,
   "metadata": {},
   "outputs": [],
   "source": [
    "# Create keras model\n",
    "#import pdb;pdb.set_trace()\n",
    "# define the 3072-1024-512-3 architecture using Keras\n",
    "model = Sequential()\n",
    "model.add(Dense(1024, input_shape=(3072,), activation=\"sigmoid\"))\n",
    "model.add(Dense(512, activation=\"sigmoid\"))\n",
    "model.add(Dense(len(lb.classes_), activation=\"softmax\"))\n"
   ]
  },
  {
   "cell_type": "code",
   "execution_count": 52,
   "metadata": {},
   "outputs": [],
   "source": [
    "# initialize our initial learning rate and # of epochs to train for\n",
    "INIT_LR = 0.01\n",
    "EPOCHS = 75\n"
   ]
  },
  {
   "cell_type": "markdown",
   "metadata": {},
   "source": [
    "compile the model using SGD as our optimizer and categorical cross-entropy loss (you'll want to use binary_crossentropy for 2-class classification)\n"
   ]
  },
  {
   "cell_type": "code",
   "execution_count": 53,
   "metadata": {},
   "outputs": [
    {
     "name": "stdout",
     "output_type": "stream",
     "text": [
      "[INFO] training network...\n"
     ]
    }
   ],
   "source": [
    "print(\"[INFO] training network...\")\n",
    "opt = SGD(lr=INIT_LR)\n",
    "model.compile(loss=\"categorical_crossentropy\", optimizer=opt, metrics=[\"accuracy\"])\n"
   ]
  },
  {
   "cell_type": "code",
   "execution_count": 54,
   "metadata": {},
   "outputs": [
    {
     "name": "stdout",
     "output_type": "stream",
     "text": [
      "Wall time: 0 ns\n",
      "Train on 2250 samples, validate on 750 samples\n",
      "Epoch 1/75\n",
      "2250/2250 [==============================] - 3s 1ms/step - loss: 1.1036 - acc: 0.3498 - val_loss: 1.0819 - val_acc: 0.4280\n",
      "Epoch 2/75\n",
      "2250/2250 [==============================] - 2s 939us/step - loss: 1.0818 - acc: 0.3964 - val_loss: 1.1210 - val_acc: 0.3147\n",
      "Epoch 3/75\n",
      "2250/2250 [==============================] - 2s 930us/step - loss: 1.0679 - acc: 0.4018 - val_loss: 1.0584 - val_acc: 0.4120\n",
      "Epoch 4/75\n",
      "2250/2250 [==============================] - 2s 929us/step - loss: 1.0479 - acc: 0.4378 - val_loss: 1.0347 - val_acc: 0.4947\n",
      "Epoch 5/75\n",
      "2250/2250 [==============================] - 2s 937us/step - loss: 1.0341 - acc: 0.4667 - val_loss: 1.0110 - val_acc: 0.5293\n",
      "Epoch 6/75\n",
      "2250/2250 [==============================] - 2s 945us/step - loss: 1.0189 - acc: 0.4884 - val_loss: 1.0377 - val_acc: 0.4747\n",
      "Epoch 7/75\n",
      "2250/2250 [==============================] - 2s 931us/step - loss: 1.0020 - acc: 0.5133 - val_loss: 1.0745 - val_acc: 0.4213\n",
      "Epoch 8/75\n",
      "2250/2250 [==============================] - 2s 948us/step - loss: 0.9909 - acc: 0.5058 - val_loss: 0.9748 - val_acc: 0.5347\n",
      "Epoch 9/75\n",
      "2250/2250 [==============================] - 2s 1ms/step - loss: 0.9764 - acc: 0.5013 - val_loss: 0.9848 - val_acc: 0.5013\n",
      "Epoch 10/75\n",
      "2250/2250 [==============================] - 2s 963us/step - loss: 0.9654 - acc: 0.5173 - val_loss: 0.9512 - val_acc: 0.5227\n",
      "Epoch 11/75\n",
      "2250/2250 [==============================] - 2s 992us/step - loss: 0.9546 - acc: 0.5084 - val_loss: 0.9386 - val_acc: 0.5720\n",
      "Epoch 12/75\n",
      "2250/2250 [==============================] - 2s 1ms/step - loss: 0.9396 - acc: 0.5236 - val_loss: 0.9250 - val_acc: 0.5280\n",
      "Epoch 13/75\n",
      "2250/2250 [==============================] - 2s 928us/step - loss: 0.9298 - acc: 0.5249 - val_loss: 0.9453 - val_acc: 0.5053\n",
      "Epoch 14/75\n",
      "2250/2250 [==============================] - 2s 950us/step - loss: 0.9232 - acc: 0.5169 - val_loss: 0.9728 - val_acc: 0.4707\n",
      "Epoch 15/75\n",
      "2250/2250 [==============================] - 2s 943us/step - loss: 0.9172 - acc: 0.5324 - val_loss: 0.9136 - val_acc: 0.5400\n",
      "Epoch 16/75\n",
      "2250/2250 [==============================] - 2s 934us/step - loss: 0.9061 - acc: 0.5284 - val_loss: 0.9349 - val_acc: 0.5133\n",
      "Epoch 17/75\n",
      "2250/2250 [==============================] - 2s 945us/step - loss: 0.9010 - acc: 0.5360 - val_loss: 0.8769 - val_acc: 0.5840\n",
      "Epoch 18/75\n",
      "2250/2250 [==============================] - 2s 968us/step - loss: 0.8924 - acc: 0.5564 - val_loss: 0.8987 - val_acc: 0.5147\n",
      "Epoch 19/75\n",
      "2250/2250 [==============================] - 2s 1ms/step - loss: 0.8861 - acc: 0.5462 - val_loss: 0.9362 - val_acc: 0.5133\n",
      "Epoch 20/75\n",
      "2250/2250 [==============================] - 2s 953us/step - loss: 0.8816 - acc: 0.5400 - val_loss: 0.9296 - val_acc: 0.5093\n",
      "Epoch 21/75\n",
      "2250/2250 [==============================] - 2s 948us/step - loss: 0.8697 - acc: 0.5622 - val_loss: 0.9835 - val_acc: 0.4707\n",
      "Epoch 22/75\n",
      "2250/2250 [==============================] - 2s 951us/step - loss: 0.8703 - acc: 0.5511 - val_loss: 0.8833 - val_acc: 0.5440\n",
      "Epoch 23/75\n",
      "2250/2250 [==============================] - 2s 946us/step - loss: 0.8652 - acc: 0.5560 - val_loss: 0.9103 - val_acc: 0.5760\n",
      "Epoch 24/75\n",
      "2250/2250 [==============================] - 2s 969us/step - loss: 0.8595 - acc: 0.5613 - val_loss: 0.9488 - val_acc: 0.4907\n",
      "Epoch 25/75\n",
      "2250/2250 [==============================] - 2s 969us/step - loss: 0.8577 - acc: 0.5449 - val_loss: 0.8981 - val_acc: 0.5147\n",
      "Epoch 26/75\n",
      "2250/2250 [==============================] - 2s 965us/step - loss: 0.8554 - acc: 0.5547 - val_loss: 0.8613 - val_acc: 0.5560\n",
      "Epoch 27/75\n",
      "2250/2250 [==============================] - 2s 967us/step - loss: 0.8521 - acc: 0.5498 - val_loss: 0.9008 - val_acc: 0.5387\n",
      "Epoch 28/75\n",
      "2250/2250 [==============================] - 2s 959us/step - loss: 0.8464 - acc: 0.5671 - val_loss: 0.8621 - val_acc: 0.5800\n",
      "Epoch 29/75\n",
      "2250/2250 [==============================] - 2s 955us/step - loss: 0.8450 - acc: 0.5658 - val_loss: 0.9071 - val_acc: 0.5680\n",
      "Epoch 30/75\n",
      "2250/2250 [==============================] - 2s 973us/step - loss: 0.8462 - acc: 0.5591 - val_loss: 0.8359 - val_acc: 0.5840\n",
      "Epoch 31/75\n",
      "2250/2250 [==============================] - 2s 980us/step - loss: 0.8387 - acc: 0.5733 - val_loss: 0.8743 - val_acc: 0.5333\n",
      "Epoch 32/75\n",
      "2250/2250 [==============================] - 2s 973us/step - loss: 0.8399 - acc: 0.5684 - val_loss: 0.8497 - val_acc: 0.5600\n",
      "Epoch 33/75\n",
      "2250/2250 [==============================] - 2s 973us/step - loss: 0.8380 - acc: 0.5613 - val_loss: 0.8364 - val_acc: 0.5707\n",
      "Epoch 34/75\n",
      "2250/2250 [==============================] - 2s 978us/step - loss: 0.8395 - acc: 0.5591 - val_loss: 0.8286 - val_acc: 0.6133\n",
      "Epoch 35/75\n",
      "2250/2250 [==============================] - 2s 964us/step - loss: 0.8280 - acc: 0.5733 - val_loss: 0.8689 - val_acc: 0.5787\n",
      "Epoch 36/75\n",
      "2250/2250 [==============================] - 2s 958us/step - loss: 0.8268 - acc: 0.5729 - val_loss: 0.8724 - val_acc: 0.5440\n",
      "Epoch 37/75\n",
      "2250/2250 [==============================] - 2s 972us/step - loss: 0.8318 - acc: 0.5640 - val_loss: 0.8597 - val_acc: 0.5573\n",
      "Epoch 38/75\n",
      "2250/2250 [==============================] - 2s 964us/step - loss: 0.8263 - acc: 0.5680 - val_loss: 0.8794 - val_acc: 0.5587\n",
      "Epoch 39/75\n",
      "2250/2250 [==============================] - 2s 970us/step - loss: 0.8248 - acc: 0.5782 - val_loss: 0.8627 - val_acc: 0.5373\n",
      "Epoch 40/75\n",
      "2250/2250 [==============================] - 2s 975us/step - loss: 0.8247 - acc: 0.5738 - val_loss: 0.9531 - val_acc: 0.5160\n",
      "Epoch 41/75\n",
      "2250/2250 [==============================] - 2s 963us/step - loss: 0.8184 - acc: 0.5844 - val_loss: 0.8306 - val_acc: 0.6053\n",
      "Epoch 42/75\n",
      "2250/2250 [==============================] - 2s 974us/step - loss: 0.8223 - acc: 0.5769 - val_loss: 0.8249 - val_acc: 0.5960\n",
      "Epoch 43/75\n",
      "2250/2250 [==============================] - 2s 973us/step - loss: 0.8177 - acc: 0.5840 - val_loss: 0.8271 - val_acc: 0.6187\n",
      "Epoch 44/75\n",
      "2250/2250 [==============================] - 2s 961us/step - loss: 0.8128 - acc: 0.5889 - val_loss: 0.8831 - val_acc: 0.5507\n",
      "Epoch 45/75\n",
      "2250/2250 [==============================] - 2s 964us/step - loss: 0.8169 - acc: 0.5827 - val_loss: 0.8228 - val_acc: 0.6293\n",
      "Epoch 46/75\n",
      "2250/2250 [==============================] - 2s 953us/step - loss: 0.8115 - acc: 0.5831 - val_loss: 0.8986 - val_acc: 0.5307\n",
      "Epoch 47/75\n",
      "2250/2250 [==============================] - 2s 961us/step - loss: 0.8148 - acc: 0.5707 - val_loss: 0.8313 - val_acc: 0.6013\n",
      "Epoch 48/75\n",
      "2250/2250 [==============================] - 2s 980us/step - loss: 0.8104 - acc: 0.5689 - val_loss: 0.8244 - val_acc: 0.5960\n",
      "Epoch 49/75\n",
      "2250/2250 [==============================] - 2s 987us/step - loss: 0.8032 - acc: 0.5858 - val_loss: 0.8194 - val_acc: 0.6160\n",
      "Epoch 50/75\n",
      "2250/2250 [==============================] - 2s 974us/step - loss: 0.8068 - acc: 0.5907 - val_loss: 0.8290 - val_acc: 0.5840\n",
      "Epoch 51/75\n",
      "2250/2250 [==============================] - 2s 979us/step - loss: 0.8036 - acc: 0.5902 - val_loss: 0.8497 - val_acc: 0.5427\n",
      "Epoch 52/75\n",
      "2250/2250 [==============================] - 2s 1ms/step - loss: 0.8020 - acc: 0.5933 - val_loss: 0.8223 - val_acc: 0.5933\n",
      "Epoch 53/75\n",
      "2250/2250 [==============================] - 2s 986us/step - loss: 0.7982 - acc: 0.6049 - val_loss: 0.8178 - val_acc: 0.6107\n",
      "Epoch 54/75\n",
      "2250/2250 [==============================] - 2s 1ms/step - loss: 0.8001 - acc: 0.5853 - val_loss: 0.8760 - val_acc: 0.5627\n",
      "Epoch 55/75\n",
      "2250/2250 [==============================] - 2s 987us/step - loss: 0.8026 - acc: 0.5813 - val_loss: 0.8230 - val_acc: 0.5907\n",
      "Epoch 56/75\n",
      "2250/2250 [==============================] - 2s 963us/step - loss: 0.7988 - acc: 0.5893 - val_loss: 0.8355 - val_acc: 0.6013oss: 0.7938 - acc: 0\n",
      "Epoch 57/75\n",
      "2250/2250 [==============================] - 2s 963us/step - loss: 0.7950 - acc: 0.6013 - val_loss: 0.8650 - val_acc: 0.5360\n",
      "Epoch 58/75\n",
      "2250/2250 [==============================] - 2s 972us/step - loss: 0.8009 - acc: 0.5893 - val_loss: 0.8781 - val_acc: 0.5813\n",
      "Epoch 59/75\n",
      "2250/2250 [==============================] - 2s 967us/step - loss: 0.7945 - acc: 0.5991 - val_loss: 0.8196 - val_acc: 0.6013\n",
      "Epoch 60/75\n"
     ]
    },
    {
     "name": "stdout",
     "output_type": "stream",
     "text": [
      "2250/2250 [==============================] - 2s 921us/step - loss: 0.7939 - acc: 0.6022 - val_loss: 0.8534 - val_acc: 0.5440\n",
      "Epoch 61/75\n",
      "2250/2250 [==============================] - 2s 919us/step - loss: 0.7954 - acc: 0.5898 - val_loss: 0.8533 - val_acc: 0.5893\n",
      "Epoch 62/75\n",
      "2250/2250 [==============================] - 2s 916us/step - loss: 0.7884 - acc: 0.6058 - val_loss: 0.8319 - val_acc: 0.5707\n",
      "Epoch 63/75\n",
      "2250/2250 [==============================] - 2s 921us/step - loss: 0.7853 - acc: 0.6004 - val_loss: 0.8141 - val_acc: 0.6200\n",
      "Epoch 64/75\n",
      "2250/2250 [==============================] - 2s 915us/step - loss: 0.7906 - acc: 0.5911 - val_loss: 0.8172 - val_acc: 0.6067\n",
      "Epoch 65/75\n",
      "2250/2250 [==============================] - 2s 920us/step - loss: 0.7853 - acc: 0.6080 - val_loss: 0.8546 - val_acc: 0.5640\n",
      "Epoch 66/75\n",
      "2250/2250 [==============================] - 2s 921us/step - loss: 0.7811 - acc: 0.6191 - val_loss: 0.8159 - val_acc: 0.6080\n",
      "Epoch 67/75\n",
      "2250/2250 [==============================] - 2s 919us/step - loss: 0.7853 - acc: 0.6062 - val_loss: 0.8141 - val_acc: 0.6080\n",
      "Epoch 68/75\n",
      "2250/2250 [==============================] - 2s 918us/step - loss: 0.7804 - acc: 0.6036 - val_loss: 0.8469 - val_acc: 0.5907\n",
      "Epoch 69/75\n",
      "2250/2250 [==============================] - 2s 921us/step - loss: 0.7816 - acc: 0.6049 - val_loss: 0.8201 - val_acc: 0.6067\n",
      "Epoch 70/75\n",
      "2250/2250 [==============================] - 2s 921us/step - loss: 0.7819 - acc: 0.5978 - val_loss: 0.8129 - val_acc: 0.6093\n",
      "Epoch 71/75\n",
      "2250/2250 [==============================] - 2s 951us/step - loss: 0.7802 - acc: 0.6156 - val_loss: 0.8762 - val_acc: 0.5880\n",
      "Epoch 72/75\n",
      "2250/2250 [==============================] - 2s 925us/step - loss: 0.7788 - acc: 0.5996 - val_loss: 0.8535 - val_acc: 0.5613\n",
      "Epoch 73/75\n",
      "2250/2250 [==============================] - 2s 923us/step - loss: 0.7748 - acc: 0.6102 - val_loss: 0.8164 - val_acc: 0.6000\n",
      "Epoch 74/75\n",
      "2250/2250 [==============================] - 2s 923us/step - loss: 0.7723 - acc: 0.6280 - val_loss: 0.8479 - val_acc: 0.5613\n",
      "Epoch 75/75\n",
      "2250/2250 [==============================] - 2s 915us/step - loss: 0.7680 - acc: 0.6204 - val_loss: 0.8572 - val_acc: 0.5773\n"
     ]
    }
   ],
   "source": [
    "# train the neural network\n",
    "%time\n",
    "H = model.fit(trainX, trainY, validation_data=(testX, testY), epochs=EPOCHS, batch_size=32)"
   ]
  },
  {
   "cell_type": "code",
   "execution_count": 55,
   "metadata": {},
   "outputs": [
    {
     "name": "stdout",
     "output_type": "stream",
     "text": [
      "[INFO] evaluating network...\n",
      "              precision    recall  f1-score   support\n",
      "\n",
      "        cats       0.48      0.81      0.61       236\n",
      "        dogs       0.44      0.23      0.30       236\n",
      "       panda       0.80      0.68      0.74       278\n",
      "\n",
      "   micro avg       0.58      0.58      0.58       750\n",
      "   macro avg       0.58      0.57      0.55       750\n",
      "weighted avg       0.59      0.58      0.56       750\n",
      "\n"
     ]
    }
   ],
   "source": [
    "# evaluate the network\n",
    "print(\"[INFO] evaluating network...\")\n",
    "predictions = model.predict(testX, batch_size=32)\n",
    "print(classification_report(testY.argmax(axis=1), predictions.argmax(axis=1), target_names=lb.classes_))"
   ]
  },
  {
   "cell_type": "markdown",
   "metadata": {},
   "source": [
    "We see an overall accuracy of 60% which is not so good. It looks like that panda class has the best accuracy \n",
    "while cats class has the second best.\n",
    "let's try to see where we get the best accuracy.\n"
   ]
  },
  {
   "cell_type": "code",
   "execution_count": 38,
   "metadata": {},
   "outputs": [
    {
     "data": {
      "text/plain": [
       "<matplotlib.legend.Legend at 0x28d9623ad30>"
      ]
     },
     "execution_count": 38,
     "metadata": {},
     "output_type": "execute_result"
    },
    {
     "data": {
      "image/png": "[encoded data removed]",
      "text/plain": [
       "<Figure size 432x288 with 1 Axes>"
      ]
     },
     "metadata": {},
     "output_type": "display_data"
    }
   ],
   "source": [
    "# plot the training loss and accuracy\n",
    "N = np.arange(0, EPOCHS)\n",
    "plt.style.use(\"ggplot\")\n",
    "plt.figure()\n",
    "plt.title(\"Training Loss and Accuracy (Simple NN)\")\n",
    "plt.xlabel(\"Epoch #\")\n",
    "plt.ylabel(\"Loss/Accuracy\")\n",
    "\n",
    "plt.plot(N, H.history[\"loss\"], label=\"train_loss\")\n",
    "plt.plot(N, H.history[\"val_loss\"], label=\"val_loss\")\n",
    "plt.plot(N, H.history[\"acc\"], label=\"train_acc\")\n",
    "plt.plot(N, H.history[\"val_acc\"], label=\"val_acc\")\n",
    "plt.legend()\n",
    "\n"
   ]
  },
  {
   "cell_type": "code",
   "execution_count": 39,
   "metadata": {},
   "outputs": [
    {
     "data": {
      "text/plain": [
       "<Figure size 432x288 with 0 Axes>"
      ]
     },
     "metadata": {},
     "output_type": "display_data"
    }
   ],
   "source": [
    "plt.savefig(args[\"plot\"])"
   ]
  },
  {
   "cell_type": "code",
   "execution_count": 40,
   "metadata": {},
   "outputs": [
    {
     "name": "stdout",
     "output_type": "stream",
     "text": [
      "[INFO] serializing network and label binarizer...\n"
     ]
    }
   ],
   "source": [
    "# save the model and label binarizer to disk\n",
    "print(\"[INFO] serializing network and label binarizer...\")\n",
    "model.save(args[\"model\"])\n",
    "f = open(args[\"label-bin\"], \"wb\")\n",
    "f.write(pickle.dumps(lb))\n",
    "f.close()"
   ]
  },
  {
   "cell_type": "code",
   "execution_count": null,
   "metadata": {},
   "outputs": [],
   "source": []
  },
  {
   "cell_type": "code",
   "execution_count": null,
   "metadata": {},
   "outputs": [],
   "source": []
  }
 ],
 "metadata": {
  "file_extension": ".py",
  "kernelspec": {
   "display_name": "py36",
   "language": "python",
   "name": "py36"
  },
  "language_info": {
   "codemirror_mode": {
    "name": "ipython",
    "version": 3
   },
   "file_extension": ".py",
   "mimetype": "text/x-python",
   "name": "python",
   "nbconvert_exporter": "python",
   "pygments_lexer": "ipython3",
   "version": "3.6.8"
  },
  "mimetype": "text/x-python",
  "name": "python",
  "npconvert_exporter": "python",
  "pygments_lexer": "ipython3",
  "version": 3
 },
 "nbformat": 4,
 "nbformat_minor": 2
}
